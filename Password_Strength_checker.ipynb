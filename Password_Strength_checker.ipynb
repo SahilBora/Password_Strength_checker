{
  "nbformat": 4,
  "nbformat_minor": 0,
  "metadata": {
    "colab": {
      "provenance": [],
      "authorship_tag": "ABX9TyNmMRdfythn7CUO4PHuubcC",
      "include_colab_link": true
    },
    "kernelspec": {
      "name": "python3",
      "display_name": "Python 3"
    },
    "language_info": {
      "name": "python"
    }
  },
  "cells": [
    {
      "cell_type": "markdown",
      "metadata": {
        "id": "view-in-github",
        "colab_type": "text"
      },
      "source": [
        "<a href=\"https://colab.research.google.com/github/SahilBora/Password_Strength_checker/blob/main/Password_Strength_checker.ipynb\" target=\"_parent\"><img src=\"https://colab.research.google.com/assets/colab-badge.svg\" alt=\"Open In Colab\"/></a>"
      ]
    },
    {
      "cell_type": "code",
      "execution_count": 1,
      "metadata": {
        "colab": {
          "base_uri": "https://localhost:8080/"
        },
        "id": "nyUoPiWCEMwh",
        "outputId": "4302b1d4-a96e-406d-ea7b-6423f93196ce"
      },
      "outputs": [
        {
          "output_type": "stream",
          "name": "stdout",
          "text": [
            "🔑 Enter a password to check its strength: jhghjkj\n",
            "\n",
            "🔍 Password Strength Analysis:\n",
            "❌ Password too short. Must be at least 8 characters.\n",
            "❌ Add at least one uppercase letter.\n",
            "❌ Add at least one number.\n",
            "❌ Add at least one special character (@$!%*?&).\n",
            "❌ Weak password. Strengthen length, complexity, and uniqueness.\n"
          ]
        }
      ],
      "source": [
        "import re\n",
        "\n",
        "# Check if password meets minimum length requirement\n",
        "def validate_length(password):\n",
        "    return (True, \"\") if len(password) >= 8 else (False, \"❌ Password too short. Must be at least 8 characters.\")\n",
        "\n",
        "# Ensure password includes uppercase, lowercase, digits, and special characters\n",
        "def validate_complexity(password):\n",
        "    criteria = {\n",
        "        \"uppercase letter\": r\"[A-Z]\",\n",
        "        \"lowercase letter\": r\"[a-z]\",\n",
        "        \"number\": r\"[0-9]\",\n",
        "        \"special character (@$!%*?&)\": r\"[@$!%*?&]\"\n",
        "    }\n",
        "\n",
        "    missing_elements = [f\"❌ Add at least one {key}.\" for key, pattern in criteria.items() if not re.search(pattern, password)]\n",
        "    return (False, \"\\n\".join(missing_elements)) if missing_elements else (True, \"\")\n",
        "\n",
        "#  Detect repeating character sequences\n",
        "def validate_uniqueness(password):\n",
        "    return (False, \"❌ Avoid consecutive repeating characters.\") if re.search(r\"(.)\\1{2,}\", password) else (True, \"\")\n",
        "\n",
        "#  Analyze overall password strength\n",
        "def evaluate_password(password):\n",
        "    strength_score = 0\n",
        "    feedback = []\n",
        "\n",
        "    # Apply validation checks\n",
        "    length_ok, length_msg = validate_length(password)\n",
        "    complexity_ok, complexity_msg = validate_complexity(password)\n",
        "    uniqueness_ok, uniqueness_msg = validate_uniqueness(password)\n",
        "\n",
        "    # Count strengths and collect feedback\n",
        "    if length_ok: strength_score += 1\n",
        "    else: feedback.append(length_msg)\n",
        "\n",
        "    if complexity_ok: strength_score += 1\n",
        "    else: feedback.append(complexity_msg)\n",
        "\n",
        "    if uniqueness_ok: strength_score += 1\n",
        "    else: feedback.append(uniqueness_msg)\n",
        "\n",
        "    # Provide final assessment\n",
        "    if strength_score == 3:\n",
        "        feedback.append(\"✅ Strong password! Great job.\")\n",
        "    elif strength_score == 2:\n",
        "        feedback.append(\"⚠️ Moderate strength. Improve length or complexity.\")\n",
        "    else:\n",
        "        feedback.append(\"❌ Weak password. Strengthen length, complexity, and uniqueness.\")\n",
        "\n",
        "    return \"\\n\".join(feedback)\n",
        "\n",
        "#  Get user input and evaluate password\n",
        "user_password = input(\"🔑 Enter a password to check its strength: \")\n",
        "print(\"\\n🔍 Password Strength Analysis:\")\n",
        "print(evaluate_password(user_password))\n"
      ]
    }
  ]
}